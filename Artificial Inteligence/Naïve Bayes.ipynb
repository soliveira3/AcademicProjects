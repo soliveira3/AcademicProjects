{
 "cells": [
  {
   "cell_type": "markdown",
   "metadata": {},
   "source": [
    "# **Homework 3 - Naive Bayes with Gaussian distribution**\n",
    "#### Imports and Visualization"
   ]
  },
  {
   "cell_type": "code",
   "execution_count": 84,
   "metadata": {},
   "outputs": [
    {
     "name": "stdout",
     "output_type": "stream",
     "text": [
      "Dataset loaded: (70000, 784) (70000,)\n"
     ]
    }
   ],
   "source": [
    "import numpy as np\n",
    "import matplotlib.pyplot as plt\n",
    "from sklearn.datasets import fetch_openml, load_digits\n",
    "from sklearn.model_selection import train_test_split\n",
    "from sklearn.metrics import accuracy_score, confusion_matrix, classification_report\n",
    "\n",
    "try:\n",
    "    mnist = fetch_openml('mnist_784', version=1, as_frame=False)\n",
    "    X, y = mnist.data / 255.0, mnist.target.astype(int)\n",
    "except Exception:\n",
    "    digits = load_digits()\n",
    "    X, y = digits.data / 16.0, digits.target\n",
    "\n",
    "print(\"Dataset loaded:\", X.shape, y.shape)"
   ]
  },
  {
   "cell_type": "code",
   "execution_count": 85,
   "metadata": {},
   "outputs": [
    {
     "data": {
      "image/png": "[encoded data removed]",
      "text/plain": [
       "<Figure size 1000x200 with 5 Axes>"
      ]
     },
     "metadata": {},
     "output_type": "display_data"
    }
   ],
   "source": [
    "# Visualize some samples\n",
    "fig, axes = plt.subplots(1, 5, figsize=(10, 2))\n",
    "for i, ax in enumerate(axes):\n",
    "    ax.imshow(X[i].reshape(28, 28) if X.shape[1] == 784 else X[i].reshape(8, 8), cmap='gray')\n",
    "    ax.set_title(f\"Label: {y[i]}\")\n",
    "    ax.axis('off')\n",
    "plt.show()"
   ]
  },
  {
   "cell_type": "markdown",
   "metadata": {},
   "source": [
    "####"
   ]
  },
  {
   "cell_type": "markdown",
   "metadata": {},
   "source": [
    "# **Implimenting Naive Bayes with Gaussian distribution**\n",
    "### **Creating splits for Training / Testing**"
   ]
  },
  {
   "cell_type": "code",
   "execution_count": 86,
   "metadata": {},
   "outputs": [
    {
     "name": "stdout",
     "output_type": "stream",
     "text": [
      "Train: (56000, 784) Test: (14000, 784)\n"
     ]
    }
   ],
   "source": [
    "# Train/test split\n",
    "X_train, X_test, y_train, y_test = train_test_split(\n",
    "    X, y, test_size=0.2, random_state=42, stratify=y)\n",
    "print(\"Train:\", X_train.shape, \"Test:\", X_test.shape)"
   ]
  },
  {
   "cell_type": "markdown",
   "metadata": {},
   "source": [
    "### **Gaussian Naive Bayes Model**"
   ]
  },
  {
   "cell_type": "code",
   "execution_count": 87,
   "metadata": {},
   "outputs": [],
   "source": [
    "class GaussianNBStudent:\n",
    "    \n",
    "    # Initializing the model \n",
    "    def __init__(self, var_smoothing=1e-9):\n",
    "        # This program assumes that classes include all of 0-9 AND image size is static\n",
    "        self.numClasses = 10\n",
    "        self.numFeatures = 784\n",
    "        self.var_smoothing = var_smoothing\n",
    "        self.mean = np.zeros((self.numClasses, self.numFeatures))\n",
    "        self.variance = np.zeros((self.numClasses, self.numFeatures))\n",
    "        self.priors = np.zeros(self.numClasses)\n",
    "\n",
    "\n",
    "    def fit(self, X, y):\n",
    "        # Estimating priors, means, and variances for each class 0-9\n",
    "        for c in range(self.numClasses):\n",
    "            # X, but only for class c\n",
    "            XC = X[y == c]\n",
    "            # Calculating priors, mean, and variance for all features in class c\n",
    "            self.priors[c] = np.log(len(XC) / len(X))\n",
    "            self.mean[c, :] = np.mean(XC, axis=0)\n",
    "            self.variance[c, :] = np.var(XC, axis=0) + self.var_smoothing\n",
    "        pass\n",
    "\n",
    "    \n",
    "    def _joint_log_likelihood(self, X):\n",
    "        # Computing log-posterior / Gaussian likelihood for each class and adding log priors        \n",
    "        # Initializing P(c|x)\n",
    "        testCases = X.shape[0]\n",
    "        posterior = np.zeros((testCases, self.numClasses))\n",
    "\n",
    "        # Calculating the poteriour for each class\n",
    "        # P(c|x) => likelyhood of this class given these features\n",
    "        for c in range(self.numClasses):\n",
    "            mean = self.mean[c, :]\n",
    "            variance = self.variance[c, :]\n",
    "            # This is the Log-Posterior function\n",
    "            posterior[:, c] = self.priors[c] -0.5*np.sum( np.log(2*np.pi*variance) + (((X-mean)**2) / variance), axis=1)\n",
    "\n",
    "        return posterior\n",
    "\n",
    "    \n",
    "    def predict(self, X):\n",
    "        # Calculating the likelyhoods for each class for each testcase\n",
    "        posterior = self._joint_log_likelihood(X)\n",
    "        # Returning the case with the maximum likelyhood\n",
    "        return np.argmax(posterior, axis=1)\n"
   ]
  },
  {
   "cell_type": "markdown",
   "metadata": {},
   "source": [
    "####   "
   ]
  },
  {
   "cell_type": "markdown",
   "metadata": {},
   "source": [
    "# **Testing and Evaluation**\n",
    "### **Creating and Testing the Model on Novel Test Cases**"
   ]
  },
  {
   "cell_type": "code",
   "execution_count": 88,
   "metadata": {},
   "outputs": [],
   "source": [
    "# Initializing model\n",
    "model = GaussianNBStudent()\n",
    "\n",
    "# Training the model\n",
    "model.fit(X_train, y_train)\n",
    "\n",
    "# Making predictions\n",
    "y_pred = model.predict(X_test)"
   ]
  },
  {
   "cell_type": "markdown",
   "metadata": {},
   "source": [
    "### **Evaluating Preformance**"
   ]
  },
  {
   "cell_type": "code",
   "execution_count": 89,
   "metadata": {},
   "outputs": [
    {
     "name": "stdout",
     "output_type": "stream",
     "text": [
      "\n",
      "Overall Accuracy: 0.5649285714285714 \n",
      "\n",
      "\n",
      "[[1179    4    4    3    4    6   46    0  110   25]\n",
      " [   0 1487    5    3    0    5   22    2   34   17]\n",
      " [  97   31  462  101   10    7  337    3  333   17]\n",
      " [  39   76   11  514    3    9   60    8  579  129]\n",
      " [  21   15   19   12  230    6   92    8  315  647]\n",
      " [  94   46   10   26    5   67   59    4  831  121]\n",
      " [  13   35    9    1    1    3 1272    0   38    3]\n",
      " [   4   14    1   11   10    2    5  477   50  885]\n",
      " [  20  188    8    6    4    8   13    2  923  193]\n",
      " [   6   16    2    3    9    0    2   25   30 1298]] \n",
      "\n",
      "\n",
      "              precision    recall  f1-score   support\n",
      "\n",
      "           0       0.80      0.85      0.83      1381\n",
      "           1       0.78      0.94      0.85      1575\n",
      "           2       0.87      0.33      0.48      1398\n",
      "           3       0.76      0.36      0.49      1428\n",
      "           4       0.83      0.17      0.28      1365\n",
      "           5       0.59      0.05      0.10      1263\n",
      "           6       0.67      0.93      0.77      1375\n",
      "           7       0.90      0.33      0.48      1459\n",
      "           8       0.28      0.68      0.40      1365\n",
      "           9       0.39      0.93      0.55      1391\n",
      "\n",
      "    accuracy                           0.56     14000\n",
      "   macro avg       0.69      0.56      0.52     14000\n",
      "weighted avg       0.69      0.56      0.53     14000\n",
      " \n",
      "\n",
      "\n"
     ]
    }
   ],
   "source": [
    "# Evaluating accuracy\n",
    "print(\"\\nOverall Accuracy:\", accuracy_score(y_test, y_pred), \"\\n\\n\")\n",
    "\n",
    "# Showing the confusion matrix and classification report\n",
    "print(confusion_matrix(y_test, y_pred), \"\\n\\n\")### **Evaluating Preformance**\n",
    "print(classification_report(y_test, y_pred), \"\\n\\n\")"
   ]
  },
  {
   "cell_type": "code",
   "execution_count": null,
   "metadata": {},
   "outputs": [],
   "source": []
  }
 ],
 "metadata": {
  "kernelspec": {
   "display_name": "Python 3 (ipykernel)",
   "language": "python",
   "name": "python3"
  },
  "language_info": {
   "codemirror_mode": {
    "name": "ipython",
    "version": 3
   },
   "file_extension": ".py",
   "mimetype": "text/x-python",
   "name": "python",
   "nbconvert_exporter": "python",
   "pygments_lexer": "ipython3",
   "version": "3.12.10"
  }
 },
 "nbformat": 4,
 "nbformat_minor": 4
}
