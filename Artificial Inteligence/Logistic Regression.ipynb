{
 "cells": [
  {
   "cell_type": "markdown",
   "id": "48021105-130b-4d98-9726-5e06ed0509db",
   "metadata": {},
   "source": [
    "# **Homework 2: Logistic regression** - CAP 4630 - Artificial Intelligence"
   ]
  },
  {
   "cell_type": "markdown",
   "id": "b26ccbda-3d83-437d-9229-f8069844d206",
   "metadata": {},
   "source": [
    "#### *Imports*"
   ]
  },
  {
   "cell_type": "code",
   "execution_count": null,
   "id": "1dfd2c77-4c20-4c27-a6ab-15e85d3f5d36",
   "metadata": {},
   "outputs": [],
   "source": [
    "import numpy as np\n",
    "import pandas as pd\n",
    "import matplotlib.pyplot as plt\n",
    "from sklearn.datasets import load_breast_cancer"
   ]
  },
  {
   "cell_type": "markdown",
   "id": "c91cf923-ea15-4cc3-81d7-51afb750fbab",
   "metadata": {},
   "source": [
    "#### *Given Stratified split function*"
   ]
  },
  {
   "cell_type": "code",
   "execution_count": null,
   "id": "29ec278b-091e-4e65-ad23-a2f963d1488d",
   "metadata": {},
   "outputs": [],
   "source": [
    "# Stratified split: 60/20/20\n",
    "def stratifiedSplit(X, y, rng, trainFrac=0.6, valFrac=0.2):\n",
    "    classes = np.unique(y)\n",
    "    idxTrain, idxVal, idxTest = [], [], []\n",
    "\n",
    "    for c in classes:\n",
    "        idx_c = np.where(y==c)[0]\n",
    "        rng.shuffle(idx_c)\n",
    "        n = len(idx_c)\n",
    "        nTrain = int(trainFrac*n)\n",
    "        nVal = int(valFrac*n)\n",
    "        idxTrain.extend(idx_c[:nTrain])\n",
    "        idxVal.extend(idx_c[nTrain:nTrain+nVal])\n",
    "        idxTest.extend(idx_c[nTrain+nVal:])\n",
    "\n",
    "    return np.array(idxTrain), np.array(idxVal), np.array(idxTest)"
   ]
  },
  {
   "cell_type": "markdown",
   "id": "a3dda630-35fb-46e5-ab8a-a091dbc3456f",
   "metadata": {},
   "source": [
    "## **General Initialization**"
   ]
  },
  {
   "cell_type": "code",
   "execution_count": null,
   "id": "1a4e561c-fc06-4c79-8651-f053a434ef96",
   "metadata": {},
   "outputs": [],
   "source": [
    "# Loading Data\n",
    "from sklearn.datasets import load_breast_cancer\n",
    "data = load_breast_cancer()\n",
    "X, y = data.data, data.target\n",
    "\n",
    "# Global epsilon variable\n",
    "eps = 1e-12"
   ]
  },
  {
   "cell_type": "markdown",
   "id": "683f858d-8892-4dbc-9a65-e172aa7f74f5",
   "metadata": {},
   "source": [
    "### Splitting the data into Training, Validation, and Testing portions\n",
    "Splitting the data into 3 parts (Training, Validation, and Testing) allows us to train our model on one set of variables, validate the testing with another set of variable, and the gauge how well the training went with a final testing set"
   ]
  },
  {
   "cell_type": "code",
   "execution_count": null,
   "id": "3a1e49cc-f5a6-4000-ae8f-577b6bf323da",
   "metadata": {},
   "outputs": [
    {
     "name": "stdout",
     "output_type": "stream",
     "text": [
      "\n",
      "Splits: (341, 30) (113, 30) (115, 30)\n"
     ]
    }
   ],
   "source": [
    "rng = np.random.default_rng()\n",
    "idxTrain, idxVal, idxTest = stratifiedSplit(X, y, rng)\n",
    "XTrain, yTrain = X[idxTrain], y[idxTrain]\n",
    "XVal, yVal = X[idxVal], y[idxVal]\n",
    "XTest, yTest = X[idxTest], y[idxTest]\n",
    "print(\"\\nSplits:\", XTrain.shape, XVal.shape, XTest.shape)"
   ]
  },
  {
   "cell_type": "markdown",
   "id": "9f11f910-7d59-4658-8c0a-c712af5833b7",
   "metadata": {},
   "source": [
    "### Standardizing the Data\n",
    "Standardizing the data ensures the no part of the data is weighted more than it should be.\n",
    "We also add an intercept term."
   ]
  },
  {
   "cell_type": "code",
   "execution_count": null,
   "id": "f31c2dc9-f4d3-42de-9571-2c984d4ab573",
   "metadata": {},
   "outputs": [],
   "source": [
    "# Adding an intercept (bias) term\n",
    "X = np.c_[np.ones(X.shape[0]), X]\n",
    "\n",
    "# Standardizing the data\n",
    "mean = XTrain[:, 1:].mean(axis=0)\n",
    "std = XTrain[:, 1:].std(axis=0) + eps\n",
    "XTrain[:, 1:] = (XTrain[:, 1:] - mean) / std\n",
    "XVal[:, 1:] = (XVal[:, 1:] - mean) / std\n",
    "XTest[:, 1:] = (XTest[:, 1:] - mean) / std"
   ]
  },
  {
   "cell_type": "markdown",
   "id": "f7b242ba-f7f0-4a37-8d81-3727f07154eb",
   "metadata": {},
   "source": [
    "## **Training the Model**\n",
    "#### *Setting Parameters and Global Variables*\n",
    "Our learning rate will affect our rate of gradient decent. We keep it low to prevent diverging from the answer.\n",
    "Lambda is the parameter we use to control L2 Regularization.\n",
    "nIterations controls how many iterations of gradient decent we are doing.\n",
    "\n",
    "Theta will hold our final weight values after we complete all iterations\n",
    "\n",
    "I found that using a low learning rate (0.05) prevented the model from diverging for the first few iterations.\n",
    "Keeping lambda low also allowed us to have a smooth loss curve"
   ]
  },
  {
   "cell_type": "code",
   "execution_count": null,
   "id": "55ccba30-f71b-461e-8a9d-7cab36b90d0a",
   "metadata": {},
   "outputs": [],
   "source": [
    "learningRate = 0.05\n",
    "Lambda = 0.05\n",
    "nIterations = 6000\n",
    "\n",
    "# This will hold our final weights\n",
    "theta = np.zeros(XTrain.shape[1])\n",
    "trainingLosses, valueLosses = [], []"
   ]
  },
  {
   "cell_type": "markdown",
   "id": "e82a070b-c65d-4c11-8ba2-fe0a48bc9177",
   "metadata": {},
   "source": [
    "### Solving for Theta (weights) using logistic regression\n",
    "Solving for theta is the same in logistic regression as it is in linear regression, except we are putting the resulting vector into a sigmoid function to ensure that we get a percentage between 0 and 1\n",
    "\n",
    "We will calculate our loss using binary cross-entropy which is the derivative of the loss function"
   ]
  },
  {
   "cell_type": "code",
   "execution_count": null,
   "id": "ce683997-f470-41c0-8e7c-49f6b94e2330",
   "metadata": {},
   "outputs": [],
   "source": [
    "for i in range(nIterations):\n",
    "    # Finding our hypothesized values through matrix multiplication\n",
    "    # We put the result into a sigmoid function 1 / (1 + e^(XTrain * theta))\n",
    "    n = len(yTrain)\n",
    "    h = 1 / (1 + np.exp(-(XTrain.dot(theta))))\n",
    "\n",
    "    # Calculating the loss function\n",
    "    loss = (1/n) * XTrain.T.dot(h - yTrain)\n",
    "    # Regularization (this prevents us from overfitting to the data)\n",
    "    gradient = Lambda*theta + loss\n",
    "    gradient[0] = loss[0]\n",
    "\n",
    "    # Updating our theta (weights) values\n",
    "    theta -= learningRate * gradient\n",
    "\n",
    "    # Finding losses using binary cross-entropy\n",
    "    # This will be the derivative of the loss function\n",
    "    n = len(yTrain)\n",
    "    regularization = (Lambda/2) * np.sum(theta[1:]**2)\n",
    "\n",
    "    hTrain = 1 / (1 + np.exp(-(XTrain.dot(theta))))\n",
    "    hTrain = np.clip(hTrain, eps, 1-eps)\n",
    "    trainingLoss = -1/n * np.sum(yTrain*np.log(hTrain) + (1-yTrain)*np.log(1-hTrain))\n",
    "    trainingLoss += regularization\n",
    "\n",
    "    hVal = 1 / (1 + np.exp(-(XVal.dot(theta))))\n",
    "    hVal = np.clip(hVal, eps, 1-eps)\n",
    "    valueLoss = -1/n * np.sum(yVal*np.log(hVal) + (1-yVal)*np.log(1-hVal))\n",
    "    valueLoss += regularization\n",
    "\n",
    "    # Keeping track of how are loss and validation functions are changing\n",
    "    trainingLosses.append(trainingLoss)\n",
    "    valueLosses.append(valueLoss)"
   ]
  },
  {
   "cell_type": "markdown",
   "id": "e31107ea-62f8-4bf9-9a0d-fbea89855d24",
   "metadata": {},
   "source": [
    "## **Plotting the Loss and Validation Functions**"
   ]
  },
  {
   "cell_type": "code",
   "execution_count": null,
   "id": "a0a2a20a-9986-4d03-884a-ea55c7d6de68",
   "metadata": {},
   "outputs": [
    {
     "data": {
      "image/png": "[encoded data removed]",
      "text/plain": [
       "<Figure size 1000x600 with 1 Axes>"
      ]
     },
     "metadata": {},
     "output_type": "display_data"
    }
   ],
   "source": [
    "plt.figure(figsize=(10, 6))\n",
    "plt.plot(range(nIterations), trainingLosses, label='Training Losses')\n",
    "plt.plot(range(nIterations), valueLosses, label='Value Losses')\n",
    "plt.title('Training Loss Curve')\n",
    "plt.xlabel('Iteration number')\n",
    "plt.ylabel('Loss')\n",
    "plt.legend()\n",
    "plt.grid(True)\n",
    "plt.show()"
   ]
  },
  {
   "cell_type": "markdown",
   "id": "a087552c-52db-4820-bcb6-c6022ef31ab0",
   "metadata": {},
   "source": [
    "## **Evaluating the Model**\n",
    "### Running the Model on Test Data"
   ]
  },
  {
   "cell_type": "code",
   "execution_count": null,
   "id": "12960025-6e1a-4152-8eab-a81ef46c0225",
   "metadata": {},
   "outputs": [],
   "source": [
    "# Calculating our predictions for if the cancer is benign or malignent using our computed weights (theta)\n",
    "probabilities = 1 / (1 + np.exp(-(XTest.dot(theta))))\n",
    "predictions = (probabilities >= 0.5).astype(int)\n",
    "\n",
    "# Finding the true results from the data\n",
    "TP, TN, FP, FN = 0, 0, 0, 0\n",
    "\n",
    "# For each result from the test data, we compare our predicted result to the actual result and we update our:\n",
    "# True Positive, False Positive, True Negative, and False Negative varibles \n",
    "for actual, predicted in zip(yTest, predictions):\n",
    "    if actual == 1 and predicted == 1: TP += 1\n",
    "    if actual == 0 and predicted == 1: FP += 1\n",
    "    if actual == 1 and predicted == 0: FN += 1\n",
    "    if actual == 0 and predicted == 0: TN += 1"
   ]
  },
  {
   "cell_type": "markdown",
   "id": "ad2f4ac1-1f2c-43af-a1d9-7a5973593c11",
   "metadata": {},
   "source": [
    "### Calculating our Evaluation Variables"
   ]
  },
  {
   "cell_type": "code",
   "execution_count": null,
   "id": "6d20cb83-5825-47f8-b23e-aa86d46dfea9",
   "metadata": {},
   "outputs": [],
   "source": [
    "# Calculating accuracy\n",
    "if len(yTest) > 0: accuracy = (TP + TN) / len(yTest)\n",
    "else: accuracy = 0\n",
    "# Calculating precision\n",
    "if (TP+FP) > 0: precision = TP / (TP + FP)\n",
    "else: precision = 0\n",
    "# Calculating recall\n",
    "if (TP + FN) > 0: recall = TP / (TP + FN)\n",
    "else: recall = 0\n",
    "# Calculating F1\n",
    "if (precision + recall) > 0: f1 = 2 * (precision * recall) / (precision + recall)\n",
    "else: f1 = 0\n",
    "# Calculating TPR = recall\n",
    "TPR = recall\n",
    "# Calculating FPR\n",
    "if (FP + TN) > 0: FPR = FP / (FP+TN)\n",
    "else: FPR = 0"
   ]
  },
  {
   "cell_type": "markdown",
   "id": "70642fd9-5e9f-4cd5-82c6-ed1c1c8311c3",
   "metadata": {},
   "source": [
    "### Evaluation Metrics"
   ]
  },
  {
   "cell_type": "code",
   "execution_count": null,
   "id": "abf83443-c10f-4017-b748-3a2ff329c798",
   "metadata": {
    "scrolled": true
   },
   "outputs": [
    {
     "name": "stdout",
     "output_type": "stream",
     "text": [
      "--------------------\n",
      "   TP: 72  |  FN 0\n",
      "--------------------\n",
      "   FP: 3   |  TN 40\n",
      "--------------------\n",
      "\n",
      "Accuracy: 0.9739130434782609\n",
      "Precision: 0.96\n",
      "Recall: 1.0\n",
      "F1-Score: 0.9795918367346939\n",
      "TPR (Recall): 1.0\n",
      "FPR: 0.06976744186046512\n",
      "\n"
     ]
    }
   ],
   "source": [
    "print(f\"--------------------\")\n",
    "print(f\"   TP: {TP}  |  FN {FN}\")\n",
    "print(f\"--------------------\")\n",
    "print(f\"   FP: {FP}   |  TN {TN}\")\n",
    "print(f\"--------------------\\n\")\n",
    "print(f\"Accuracy: {accuracy}\")\n",
    "print(f\"Precision: {precision}\")\n",
    "print(f\"Recall: {recall}\")\n",
    "print(f\"F1-Score: {f1}\")\n",
    "print(f\"TPR (Recall): {TPR}\")\n",
    "print(f\"FPR: {FPR}\\n\")"
   ]
  },
  {
   "cell_type": "markdown",
   "id": "94b4e819-ef91-4149-99eb-14f4548398a1",
   "metadata": {},
   "source": [
    "## **Final Results**\n",
    "### Learned Coefficients (Thetas)\n",
    "These coefficients are what we use when checking if the cancer is benign or malignent with new test data"
   ]
  },
  {
   "cell_type": "code",
   "execution_count": null,
   "id": "69149fc1-9608-4355-bdd9-7acdf8757d23",
   "metadata": {},
   "outputs": [
    {
     "name": "stdout",
     "output_type": "stream",
     "text": [
      "[ 0.03073227 -0.29638104 -0.41742757 -0.39309425 -0.22650761 -0.16196541\n",
      " -0.29855466 -0.43949393 -0.10565936  0.17431765 -0.31207099  0.01310128\n",
      " -0.24571468 -0.28626045 -0.04292106  0.09688551  0.08807563 -0.08965717\n",
      "  0.10588096  0.17565339 -0.42902587 -0.38352225 -0.40380994 -0.37899405\n",
      " -0.27372453 -0.17558887 -0.25701109 -0.38385869 -0.20156658 -0.07196073]\n"
     ]
    }
   ],
   "source": [
    "print(theta)"
   ]
  },
  {
   "cell_type": "markdown",
   "id": "5ff2ca5d-f074-464c-b212-8092a661d2b3",
   "metadata": {},
   "source": [
    "### Probabilities/Classes for the First 5 Test Examples\n",
    "For each of the probabilities, it is classified as 0 if it is less than 0.5 and 1 if it is at leat 0.5\n"
   ]
  },
  {
   "cell_type": "code",
   "execution_count": null,
   "id": "304d33af-28fb-4df6-8fe4-c4fe8d759dfe",
   "metadata": {},
   "outputs": [
    {
     "name": "stdout",
     "output_type": "stream",
     "text": [
      "Probabilities  | Class\n",
      "---------------|-------\n",
      "0.0000036580   |   0\n",
      "0.1615944490   |   0\n",
      "0.0028915242   |   0\n",
      "0.0029825766   |   0\n",
      "0.1063870922   |   0\n"
     ]
    }
   ],
   "source": [
    "print(f\"Probabilities  | Class\")\n",
    "print(\"---------------|-------\")\n",
    "for i in range(min(5, probabilities.size)):\n",
    "    print(f\"{probabilities[i]:.10f}   |   {predictions[i]}\")"
   ]
  }
 ],
 "metadata": {
  "kernelspec": {
   "display_name": "Python 3 (ipykernel)",
   "language": "python",
   "name": "python3"
  },
  "language_info": {
   "codemirror_mode": {
    "name": "ipython",
    "version": 3
   },
   "file_extension": ".py",
   "mimetype": "text/x-python",
   "name": "python",
   "nbconvert_exporter": "python",
   "pygments_lexer": "ipython3",
   "version": "3.12.10"
  }
 },
 "nbformat": 4,
 "nbformat_minor": 5
}
